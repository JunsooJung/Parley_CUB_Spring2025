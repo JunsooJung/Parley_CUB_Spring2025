{
 "cells": [
  {
   "cell_type": "code",
   "execution_count": null,
   "id": "cc48d641",
   "metadata": {},
   "outputs": [],
   "source": [
    "\n",
    "import pandas as pd\n",
    "import numpy as np\n",
    "import joblib\n",
    "import tensorflow as tf\n",
    "\n",
    "# Load models\n",
    "nn_model = tf.keras.models.load_model(\"neural_net_model.h5\")\n",
    "xgb_model = joblib.load(\"xgboost_model.pkl\")\n",
    "lgb_model = joblib.load(\"lightgbm_model.pkl\")\n",
    "meta_learner = joblib.load(\"meta_learner.pkl\")\n",
    "preprocessor = joblib.load(\"preprocessor.pkl\") \n",
    "\n",
    "# Load new dataset\n",
    "df_new = pd.read_csv(\"Synthetic_SBA_Loans_test.csv\")\n",
    "\n",
    "# Drop unused columns (must match training logic)\n",
    "drop_cols = ['Applicant ID', 'Country', 'Location', 'NAICS', 'Eligibility Score']\n",
    "df_new_cleaned = df_new.drop(columns=drop_cols, errors='ignore')\n",
    "\n",
    "# Preprocess the data\n",
    "X_new_preprocessed = preprocessor.transform(df_new_cleaned)\n",
    "\n",
    "# Get probability predictions\n",
    "nn_probs = nn_model.predict(X_new_preprocessed).flatten()\n",
    "xgb_probs = xgb_model.predict_proba(X_new_preprocessed)[:, 1]\n",
    "lgb_probs = lgb_model.predict_proba(X_new_preprocessed)[:, 1]\n",
    "\n",
    "# Stack model outputs and use meta-learner\n",
    "meta_X = np.column_stack((nn_probs, xgb_probs, lgb_probs))\n",
    "final_preds = meta_learner.predict(meta_X)\n",
    "\n",
    "# Add predictions to the original dataset\n",
    "df_new[\"Predicted_Eligibility\"] = final_preds\n",
    "\n",
    "# Save the results\n",
    "df_new.to_csv(\"Predicted_SBA_Loans.csv\", index=False)\n",
    "\n",
    "print(\"Prediction complete. Output saved to 'Predicted_SBA_Loans.csv'.\")\n"
   ]
  }
 ],
 "metadata": {
  "language_info": {
   "name": "python"
  }
 },
 "nbformat": 4,
 "nbformat_minor": 5
}
