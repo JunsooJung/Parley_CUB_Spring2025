{
 "cells": [
  {
   "cell_type": "code",
   "execution_count": 1,
   "id": "82cbbe8e",
   "metadata": {},
   "outputs": [],
   "source": [
    "\n",
    "from sklearn.linear_model import LogisticRegression\n",
    "from sklearn.ensemble import RandomForestClassifier, GradientBoostingClassifier\n",
    "from sklearn.preprocessing import StandardScaler, OneHotEncoder\n",
    "from sklearn.compose import ColumnTransformer\n",
    "import xgboost as xgb\n",
    "import lightgbm as lgb\n",
    "from catboost import CatBoostClassifier\n",
    "import tensorflow as tf\n",
    "import pandas as pd\n",
    "import numpy as np\n",
    "import joblib\n",
    "import pickle\n",
    "from pathlib import Path"
   ]
  },
  {
   "cell_type": "code",
   "execution_count": 7,
   "id": "1546c6d4",
   "metadata": {},
   "outputs": [
    {
     "name": "stderr",
     "output_type": "stream",
     "text": [
      "WARNING:absl:Compiled the loaded model, but the compiled metrics have yet to be built. `model.compile_metrics` will be empty until you train or evaluate the model.\n"
     ]
    },
    {
     "name": "stdout",
     "output_type": "stream",
     "text": [
      "Predicting with CatBoost...\n",
      "CatBoost prediction complete.\n",
      "Predicting with GradientBoosting...\n",
      "GradientBoosting prediction complete.\n",
      "Predicting with LightGBM...\n",
      "LightGBM prediction complete.\n",
      "Predicting with LogisticRegression...\n",
      "LogisticRegression prediction complete.\n",
      "Predicting with MetaLearner...\n",
      "Predicting with NeuralNet...\n",
      "\u001b[1m190/190\u001b[0m \u001b[32m━━━━━━━━━━━━━━━━━━━━\u001b[0m\u001b[37m\u001b[0m \u001b[1m0s\u001b[0m 1ms/step\n",
      "NeuralNet prediction complete.\n",
      "Predicting with RandomForest...\n",
      "RandomForest prediction complete.\n",
      "Predicting with XGBoost...\n",
      "XGBoost prediction complete.\n",
      "Meta prediction complete.\n",
      "Predictions complete. Output saved to 'Predicted_SBA_Loans.csv'\n"
     ]
    }
   ],
   "source": [
    "\n",
    "import pandas as pd\n",
    "import joblib\n",
    "import pickle\n",
    "import tensorflow as tf\n",
    "from pathlib import Path\n",
    "import numpy as np\n",
    "import xgboost as xgb\n",
    "from catboost import CatBoostClassifier\n",
    "import lightgbm as lgb\n",
    "from sklearn.ensemble import GradientBoostingClassifier, RandomForestClassifier\n",
    "from sklearn.linear_model import LogisticRegression\n",
    "\n",
    "df_new = pd.read_csv(\"Synthetic_SBA_Loans_test.csv\")\n",
    "preprocessor = joblib.load(\"saved_models/preprocessor.pkl\")\n",
    "model_files = {\n",
    "    \"CatBoost_model.pkl\": \"CatBoost\",\n",
    "    \"GradientBoosting_model.pkl\": \"GradientBoosting\",\n",
    "    \"LightGBM_model.pkl\": \"LightGBM\",\n",
    "    \"LogisticRegression_model.pkl\": \"LogisticRegression\",\n",
    "    \"meta_learner.pkl\": \"MetaLearner\",\n",
    "    \"neural_net_model.h5\": \"NeuralNet\",\n",
    "    \"RandomForest_model.pkl\": \"RandomForest\",\n",
    "    \"xgboost_model.pkl\": \"XGBoost\"\n",
    "}\n",
    "\n",
    "selected_columns = [\n",
    "    'Business Ownership (1)', 'Business Ownership (2)', 'Business Ownership (3)',\n",
    "    'Business Ownership (4)', 'Business Ownership (5)', 'Annual Revenue (2 years ago)',\n",
    "    'Annual Revenue (1 year ago)', 'Annual Revenue (latest year)', 'Net Profit Margin',\n",
    "    'Business Debt (2 years ago)', 'Business Debt (1 year ago)', 'Business Debt (latest year)',\n",
    "    'NOI (2 years ago)', 'NOI (1 year ago)', 'NOI (latest year)', 'Managerial Experience',\n",
    "    'Years in Business', 'Collateral Availability', 'Acquisition Request', 'Working Capital',\n",
    "    'Business Expansion', 'Equipment Purchase or Leasing', 'Inventory Purchase',\n",
    "    'Real Estate Acquisition or Improvement', 'Business Acquisition or Buyout',\n",
    "    'Refinancing Existing Debt', 'Emergency Funds', 'Franchise Financing',\n",
    "    'Contract Financing', 'Licensing or Permits', 'Line of Credit Establishment',\n",
    "    'Eligibility Score'\n",
    "]\n",
    "\n",
    "df_new_cleaned = df_new[selected_columns]\n",
    "X_df = pd.DataFrame(df_new_cleaned)\n",
    "\n",
    "model_preds_dict = {}\n",
    "\n",
    "for file_name, model_label in model_files.items():\n",
    "    try:\n",
    "        model_path = Path(\"saved_models\") / file_name\n",
    "        print(f\"Predicting with {model_label}...\")\n",
    "\n",
    "        if file_name.endswith(\".pkl\"):\n",
    "            with open(model_path, \"rb\") as f:\n",
    "                model = joblib.load(f)\n",
    "\n",
    "            if model_label == \"MetaLearner\":\n",
    "                continue  # skip for now\n",
    "\n",
    "            preds = model.predict(X_df)\n",
    "\n",
    "        elif file_name.endswith(\".h5\"):\n",
    "            keras_model = tf.keras.models.load_model(model_path)\n",
    "            preds = keras_model.predict(X_df)\n",
    "            preds = preds.argmax(axis=1) if preds.ndim > 1 else preds.round()\n",
    "\n",
    "        df_new[f\"{model_label}_Prediction\"] = preds\n",
    "        print(f\"{model_label} prediction complete.\")\n",
    "\n",
    "    except Exception as e:\n",
    "        print(f\"Error loading or predicting with {model_label}: {e}\")\n",
    "\n",
    "# Meta Learner\n",
    "try:\n",
    "    nn_probs = df_new[\"NeuralNet_Prediction\"].values\n",
    "    xgb_probs = df_new[\"XGBoost_Prediction\"].values\n",
    "    lgb_probs = df_new[\"LightGBM_Prediction\"].values\n",
    "    meta_input = np.column_stack((nn_probs, xgb_probs,lgb_probs))\n",
    "    with open(\"saved_models/meta_learner.pkl\", \"rb\") as f:\n",
    "        meta_learner = joblib.load(f)\n",
    "    meta_preds = meta_learner.predict(meta_input)\n",
    "    df_new[\"Meta_Learner_Prediction\"] = meta_preds\n",
    "    print(f\"Meta prediction complete.\")\n",
    "except Exception as e:\n",
    "    print(f\"Meta learner error: {e}\")\n",
    "\n",
    "df_new.to_csv(\"Predicted_SBA_Loans.csv\", index=False)\n",
    "print(\"Predictions complete. Output saved to 'Predicted_SBA_Loans.csv'\")\n"
   ]
  },
  {
   "cell_type": "code",
   "execution_count": null,
   "id": "2c75497e",
   "metadata": {},
   "outputs": [
    {
     "data": {
      "text/plain": [
       "XGBoost_Prediction\n",
       "1    3472\n",
       "0    2594\n",
       "Name: count, dtype: int64"
      ]
     },
     "execution_count": 4,
     "metadata": {},
     "output_type": "execute_result"
    }
   ],
   "source": [
    "df = pd.read_csv(\"C:/Users/Jun/Desktop/VSCODE/Parlay/Predicted_SBA_Loans.csv\")\n",
    "\n",
    "eligibility_counts = df['XGBoost_Prediction'].value_counts()\n",
    "eligibility_counts"
   ]
  },
  {
   "cell_type": "code",
   "execution_count": null,
   "id": "9eded34d",
   "metadata": {},
   "outputs": [
    {
     "name": "stdout",
     "output_type": "stream",
     "text": [
      "saved_models/LightGBM_model.pkl: b'\\x80\\x04\\x95\\xdb\\x01\\x00\\x00\\x00'\n"
     ]
    }
   ],
   "source": [
    "def check_pickle_header(filepath):\n",
    "    with open(filepath, \"rb\") as f:\n",
    "        first_bytes = f.read(8)  # read first 8 bytes\n",
    "    print(f\"{filepath}: {first_bytes}\")\n",
    "check_pickle_header(\"saved_models/LightGBM_model.pkl\")"
   ]
  },
  {
   "cell_type": "code",
   "execution_count": 15,
   "id": "bb9caf0c",
   "metadata": {},
   "outputs": [
    {
     "name": "stderr",
     "output_type": "stream",
     "text": [
      "WARNING:absl:Compiled the loaded model, but the compiled metrics have yet to be built. `model.compile_metrics` will be empty until you train or evaluate the model.\n"
     ]
    },
    {
     "name": "stdout",
     "output_type": "stream",
     "text": [
      "(None, 32)\n"
     ]
    }
   ],
   "source": [
    "from tensorflow.keras.models import load_model\n",
    "\n",
    "model = load_model(\"saved_models/neural_net_model.h5\")\n",
    "print(model.input_shape)  # Example output: (None, 32)"
   ]
  }
 ],
 "metadata": {
  "kernelspec": {
   "display_name": "Python 3",
   "language": "python",
   "name": "python3"
  },
  "language_info": {
   "codemirror_mode": {
    "name": "ipython",
    "version": 3
   },
   "file_extension": ".py",
   "mimetype": "text/x-python",
   "name": "python",
   "nbconvert_exporter": "python",
   "pygments_lexer": "ipython3",
   "version": "3.9.6"
  }
 },
 "nbformat": 4,
 "nbformat_minor": 5
}
