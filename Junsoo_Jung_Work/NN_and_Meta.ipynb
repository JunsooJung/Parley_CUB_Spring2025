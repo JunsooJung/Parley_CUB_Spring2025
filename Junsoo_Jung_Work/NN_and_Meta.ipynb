{
 "cells": [
  {
   "cell_type": "code",
   "execution_count": 1,
   "metadata": {},
   "outputs": [],
   "source": [
    "import pandas as pd\n",
    "import numpy as np\n",
    "from sklearn.model_selection import train_test_split\n",
    "from sklearn.metrics import classification_report, roc_auc_score, precision_recall_curve\n",
    "from imblearn.over_sampling import SMOTE\n",
    "import matplotlib.pyplot as plt\n",
    "from sklearn.preprocessing import StandardScaler, OneHotEncoder\n",
    "from sklearn.compose import ColumnTransformer\n",
    "from sklearn.pipeline import Pipeline"
   ]
  },
  {
   "cell_type": "code",
   "execution_count": null,
   "metadata": {},
   "outputs": [
    {
     "data": {
      "text/plain": [
       "Eligibility\n",
       "['7(a)', '504']    446766\n",
       "0                  148921\n",
       "Name: count, dtype: int64"
      ]
     },
     "execution_count": 2,
     "metadata": {},
     "output_type": "execute_result"
    }
   ],
   "source": [
    "\n",
    "###############################################################\n",
    "#               Pre Processing data \n",
    "############################################################### \n",
    "\n",
    "df = pd.read_csv(\"C:/Users/Jun/Desktop/VSCODE/Parlay/Synthetic_SBA_Loans.csv\")\n",
    "\n",
    "avg_score = df['Eligibility Score'].mean()\n",
    "below_avg = df[df['Eligibility Score'] < avg_score]\n",
    "n_decline = int(0.25 * len(df))\n",
    "decline_indices = below_avg.sample(n=n_decline, random_state=42).index\n",
    "df.loc[decline_indices, 'Eligibility'] = '0'\n",
    "eligibility_counts = df['Eligibility'].value_counts()\n",
    "eligibility_counts"
   ]
  },
  {
   "cell_type": "code",
   "execution_count": 3,
   "metadata": {},
   "outputs": [
    {
     "data": {
      "text/plain": [
       "Eligibility\n",
       "1    446766\n",
       "0    148921\n",
       "Name: count, dtype: int64"
      ]
     },
     "execution_count": 3,
     "metadata": {},
     "output_type": "execute_result"
    }
   ],
   "source": [
    "df['Eligibility'] = df['Eligibility'].apply(lambda x: 1 if x == \"['7(a)', '504']\" else 0)\n",
    "df['Eligibility'].value_counts()"
   ]
  },
  {
   "cell_type": "code",
   "execution_count": 4,
   "metadata": {},
   "outputs": [
    {
     "data": {
      "text/plain": [
       "((476549, 32),\n",
       " (119138, 32),\n",
       " Eligibility\n",
       " 1    0.750001\n",
       " 0    0.249999\n",
       " Name: proportion, dtype: float64,\n",
       " Eligibility\n",
       " 1    0.750004\n",
       " 0    0.249996\n",
       " Name: proportion, dtype: float64)"
      ]
     },
     "execution_count": 4,
     "metadata": {},
     "output_type": "execute_result"
    }
   ],
   "source": [
    "\n",
    "###############################################################\n",
    "#               Column Selection\n",
    "############################################################### \n",
    "\n",
    "selected_columns = [\n",
    "    'Business Ownership (1)', 'Business Ownership (2)', 'Business Ownership (3)',\n",
    "    'Business Ownership (4)', 'Business Ownership (5)', 'Annual Revenue (2 years ago)',\n",
    "    'Annual Revenue (1 year ago)', 'Annual Revenue (latest year)', 'Net Profit Margin',\n",
    "    'Business Debt (2 years ago)', 'Business Debt (1 year ago)', 'Business Debt (latest year)',\n",
    "    'NOI (2 years ago)', 'NOI (1 year ago)', 'NOI (latest year)', 'Managerial Experience',\n",
    "    'Years in Business', 'Collateral Availability', 'Acquisition Request', 'Working Capital',\n",
    "    'Business Expansion', 'Equipment Purchase or Leasing', 'Inventory Purchase',\n",
    "    'Real Estate Acquisition or Improvement', 'Business Acquisition or Buyout',\n",
    "    'Refinancing Existing Debt', 'Emergency Funds', 'Franchise Financing',\n",
    "    'Contract Financing', 'Licensing or Permits', 'Line of Credit Establishment',\n",
    "    'Eligibility Score'\n",
    "]\n",
    "X = df[selected_columns]\n",
    "y = df['Eligibility']\n",
    "\n",
    "X_train, X_test, y_train, y_test = train_test_split(\n",
    "    X, y, test_size=0.2, stratify=y, random_state=42\n",
    ")\n",
    "\n",
    "X_train.shape, X_test.shape, y_train.value_counts(normalize=True), y_test.value_counts(normalize=True)"
   ]
  },
  {
   "cell_type": "code",
   "execution_count": 6,
   "metadata": {},
   "outputs": [],
   "source": [
    "\n",
    "numerical_cols = X_train.select_dtypes(include=['int64', 'float64', 'bool']).columns.tolist()\n",
    "\n",
    "preprocessor = ColumnTransformer(\n",
    "    transformers=[\n",
    "        ('num', StandardScaler(), numerical_cols)\n",
    "    ]\n",
    ")\n",
    "\n",
    "preprocessing_pipeline = Pipeline(steps=[\n",
    "    ('preprocessor', preprocessor)\n",
    "])\n",
    "\n",
    "X_train_preprocessed = preprocessing_pipeline.fit_transform(X_train)\n",
    "X_test_preprocessed = preprocessing_pipeline.transform(X_test)"
   ]
  },
  {
   "cell_type": "code",
   "execution_count": 7,
   "metadata": {},
   "outputs": [
    {
     "name": "stdout",
     "output_type": "stream",
     "text": [
      "Epoch 1/20\n"
     ]
    },
    {
     "name": "stderr",
     "output_type": "stream",
     "text": [
      "c:\\Users\\Jun\\AppData\\Local\\Programs\\Python\\Python39\\lib\\site-packages\\keras\\src\\layers\\core\\dense.py:87: UserWarning: Do not pass an `input_shape`/`input_dim` argument to a layer. When using Sequential models, prefer using an `Input(shape)` object as the first layer in the model instead.\n",
      "  super().__init__(activity_regularizer=activity_regularizer, **kwargs)\n"
     ]
    },
    {
     "name": "stdout",
     "output_type": "stream",
     "text": [
      "\u001b[1m3351/3351\u001b[0m \u001b[32m━━━━━━━━━━━━━━━━━━━━\u001b[0m\u001b[37m\u001b[0m \u001b[1m6s\u001b[0m 2ms/step - accuracy: 0.7412 - loss: 0.4327 - val_accuracy: 0.7737 - val_loss: 0.3365\n",
      "Epoch 2/20\n",
      "\u001b[1m3351/3351\u001b[0m \u001b[32m━━━━━━━━━━━━━━━━━━━━\u001b[0m\u001b[37m\u001b[0m \u001b[1m5s\u001b[0m 1ms/step - accuracy: 0.7719 - loss: 0.3471 - val_accuracy: 0.7758 - val_loss: 0.3315\n",
      "Epoch 3/20\n",
      "\u001b[1m3351/3351\u001b[0m \u001b[32m━━━━━━━━━━━━━━━━━━━━\u001b[0m\u001b[37m\u001b[0m \u001b[1m5s\u001b[0m 1ms/step - accuracy: 0.7739 - loss: 0.3391 - val_accuracy: 0.7774 - val_loss: 0.3279\n",
      "Epoch 4/20\n",
      "\u001b[1m3351/3351\u001b[0m \u001b[32m━━━━━━━━━━━━━━━━━━━━\u001b[0m\u001b[37m\u001b[0m \u001b[1m5s\u001b[0m 1ms/step - accuracy: 0.7773 - loss: 0.3330 - val_accuracy: 0.7791 - val_loss: 0.3259\n",
      "Epoch 5/20\n",
      "\u001b[1m3351/3351\u001b[0m \u001b[32m━━━━━━━━━━━━━━━━━━━━\u001b[0m\u001b[37m\u001b[0m \u001b[1m5s\u001b[0m 2ms/step - accuracy: 0.7772 - loss: 0.3296 - val_accuracy: 0.7792 - val_loss: 0.3257\n",
      "Epoch 6/20\n",
      "\u001b[1m3351/3351\u001b[0m \u001b[32m━━━━━━━━━━━━━━━━━━━━\u001b[0m\u001b[37m\u001b[0m \u001b[1m5s\u001b[0m 1ms/step - accuracy: 0.7778 - loss: 0.3283 - val_accuracy: 0.7794 - val_loss: 0.3259\n",
      "Epoch 7/20\n",
      "\u001b[1m3351/3351\u001b[0m \u001b[32m━━━━━━━━━━━━━━━━━━━━\u001b[0m\u001b[37m\u001b[0m \u001b[1m6s\u001b[0m 2ms/step - accuracy: 0.7770 - loss: 0.3281 - val_accuracy: 0.7793 - val_loss: 0.3257\n",
      "Epoch 8/20\n",
      "\u001b[1m3351/3351\u001b[0m \u001b[32m━━━━━━━━━━━━━━━━━━━━\u001b[0m\u001b[37m\u001b[0m \u001b[1m6s\u001b[0m 2ms/step - accuracy: 0.7780 - loss: 0.3273 - val_accuracy: 0.7794 - val_loss: 0.3257\n",
      "Epoch 9/20\n",
      "\u001b[1m3351/3351\u001b[0m \u001b[32m━━━━━━━━━━━━━━━━━━━━\u001b[0m\u001b[37m\u001b[0m \u001b[1m5s\u001b[0m 2ms/step - accuracy: 0.7783 - loss: 0.3278 - val_accuracy: 0.7795 - val_loss: 0.3256\n",
      "Epoch 10/20\n",
      "\u001b[1m3351/3351\u001b[0m \u001b[32m━━━━━━━━━━━━━━━━━━━━\u001b[0m\u001b[37m\u001b[0m \u001b[1m5s\u001b[0m 1ms/step - accuracy: 0.7774 - loss: 0.3269 - val_accuracy: 0.7793 - val_loss: 0.3257\n",
      "Epoch 11/20\n",
      "\u001b[1m3351/3351\u001b[0m \u001b[32m━━━━━━━━━━━━━━━━━━━━\u001b[0m\u001b[37m\u001b[0m \u001b[1m5s\u001b[0m 1ms/step - accuracy: 0.7777 - loss: 0.3260 - val_accuracy: 0.7794 - val_loss: 0.3257\n",
      "Epoch 12/20\n",
      "\u001b[1m3351/3351\u001b[0m \u001b[32m━━━━━━━━━━━━━━━━━━━━\u001b[0m\u001b[37m\u001b[0m \u001b[1m5s\u001b[0m 2ms/step - accuracy: 0.7773 - loss: 0.3266 - val_accuracy: 0.7794 - val_loss: 0.3257\n",
      "\u001b[1m3724/3724\u001b[0m \u001b[32m━━━━━━━━━━━━━━━━━━━━\u001b[0m\u001b[37m\u001b[0m \u001b[1m3s\u001b[0m 782us/step - accuracy: 0.7790 - loss: 0.3252\n",
      "Test Accuracy: 0.7786\n"
     ]
    }
   ],
   "source": [
    "import tensorflow as tf\n",
    "from tensorflow import keras\n",
    "from tensorflow.keras.models import Sequential\n",
    "from tensorflow.keras.layers import Dense, BatchNormalization, Dropout\n",
    "from tensorflow.keras.optimizers import Adam\n",
    "from tensorflow.keras.callbacks import EarlyStopping\n",
    "\n",
    "###############################################################\n",
    "#               Neural Network\n",
    "############################################################### \n",
    "lr = 0.0005\n",
    "epoch = 20\n",
    "\n",
    "early_stopping = EarlyStopping(\n",
    "    monitor='val_loss',   \n",
    "    patience=3,           \n",
    "    restore_best_weights=True \n",
    ")\n",
    "\n",
    "input_shape = X_train_preprocessed.shape[1]\n",
    "\n",
    "model = Sequential([\n",
    "    Dense(128, activation='relu', input_shape=(input_shape,)),\n",
    "    BatchNormalization(),\n",
    "    Dropout(0.2),  \n",
    "    Dense(64, activation='relu'),\n",
    "    BatchNormalization(),\n",
    "    Dropout(0.2),\n",
    "    Dense(32, activation='relu'),\n",
    "    Dense(1, activation='sigmoid')  \n",
    "])\n",
    "\n",
    "model.compile(optimizer=Adam(learning_rate=lr),\n",
    "              loss='binary_crossentropy',\n",
    "              metrics=['accuracy'])\n",
    "\n",
    "history = model.fit(X_train_preprocessed, y_train,\n",
    "                    validation_split=0.1,\n",
    "                    epochs=epoch,\n",
    "                    batch_size=128,\n",
    "                    verbose=1,\n",
    "                    callbacks=[early_stopping]) \n",
    "\n",
    "test_loss, test_acc = model.evaluate(X_test_preprocessed, y_test)\n",
    "print(f\"Test Accuracy: {test_acc:.4f}\")\n"
   ]
  },
  {
   "cell_type": "code",
   "execution_count": 10,
   "metadata": {},
   "outputs": [
    {
     "name": "stdout",
     "output_type": "stream",
     "text": [
      "                         Feature  Importance\n",
      "31             Eligibility Score    0.316057\n",
      "11   Business Debt (latest year)    0.052609\n",
      "14             NOI (latest year)    0.048051\n",
      "8              Net Profit Margin    0.046537\n",
      "7   Annual Revenue (latest year)    0.045334\n",
      "5   Annual Revenue (2 years ago)    0.044412\n",
      "6    Annual Revenue (1 year ago)    0.044305\n",
      "9    Business Debt (2 years ago)    0.043380\n",
      "10    Business Debt (1 year ago)    0.043282\n",
      "12             NOI (2 years ago)    0.043255\n",
      "13              NOI (1 year ago)    0.043188\n",
      "16             Years in Business    0.037642\n",
      "15         Managerial Experience    0.034348\n",
      "0         Business Ownership (1)    0.018241\n",
      "18           Acquisition Request    0.018124\n",
      "1         Business Ownership (2)    0.018029\n",
      "19               Working Capital    0.017080\n",
      "29          Licensing or Permits    0.006799\n",
      "20            Business Expansion    0.006793\n",
      "25     Refinancing Existing Debt    0.006791\n"
     ]
    }
   ],
   "source": [
    "import pandas as pd\n",
    "import numpy as np\n",
    "from sklearn.ensemble import RandomForestClassifier\n",
    "\n",
    "\n",
    "###############################################################\n",
    "#               Checking Column Weights\n",
    "############################################################### \n",
    "\n",
    "\n",
    "rf_model = RandomForestClassifier(n_estimators=100, random_state=42)\n",
    "rf_model.fit(X_train_preprocessed, y_train)\n",
    "\n",
    "feature_importances = rf_model.feature_importances_\n",
    "num_features = preprocessing_pipeline.named_steps['preprocessor'].transformers_[0][2]  \n",
    "feature_names = list(num_features)\n",
    "\n",
    "feature_importance_df = pd.DataFrame({'Feature': feature_names, 'Importance': feature_importances})\n",
    "feature_importance_df = feature_importance_df.sort_values(by='Importance', ascending=False)\n",
    "\n",
    "print(feature_importance_df.head(20))\n",
    "\n",
    "\n"
   ]
  },
  {
   "cell_type": "code",
   "execution_count": 11,
   "metadata": {},
   "outputs": [
    {
     "name": "stdout",
     "output_type": "stream",
     "text": [
      "\u001b[1m3724/3724\u001b[0m \u001b[32m━━━━━━━━━━━━━━━━━━━━\u001b[0m\u001b[37m\u001b[0m \u001b[1m3s\u001b[0m 816us/step\n",
      "Brier Score (lower is better): 0.1175\n"
     ]
    },
    {
     "data": {
      "image/png": "[encoded data removed]",
      "text/plain": [
       "<Figure size 600x600 with 1 Axes>"
      ]
     },
     "metadata": {},
     "output_type": "display_data"
    }
   ],
   "source": [
    "from sklearn.linear_model import LogisticRegression\n",
    "from sklearn.metrics import brier_score_loss\n",
    "from sklearn.calibration import calibration_curve\n",
    "import matplotlib.pyplot as plt\n",
    "\n",
    "\n",
    "\n",
    "###############################################################\n",
    "#               Ccalibrator check\n",
    "############################################################### \n",
    "\n",
    "val_probs = model.predict(X_test_preprocessed)\n",
    "val_probs = val_probs.flatten()  \n",
    "\n",
    "calibrator = LogisticRegression()\n",
    "calibrator.fit(val_probs.reshape(-1, 1), y_test)\n",
    "calibrated_probs = calibrator.predict_proba(val_probs.reshape(-1, 1))[:, 1]\n",
    "\n",
    "brier = brier_score_loss(y_test, calibrated_probs)\n",
    "print(f\"Brier Score (lower is better): {brier:.4f}\")\n",
    "\n",
    "prob_true, prob_pred = calibration_curve(y_test, calibrated_probs, n_bins=10)\n",
    "\n",
    "plt.figure(figsize=(6, 6))\n",
    "plt.plot(prob_pred, prob_true, marker='o', label='Calibrated')\n",
    "plt.plot([0, 1], [0, 1], linestyle='--', label='Perfectly Calibrated')\n",
    "plt.xlabel('Mean Predicted Probability')\n",
    "plt.ylabel('Fraction of Positives')\n",
    "plt.title('Calibration Curve')\n",
    "plt.legend()\n",
    "plt.grid(True)\n",
    "plt.show()\n"
   ]
  },
  {
   "cell_type": "code",
   "execution_count": 14,
   "metadata": {},
   "outputs": [
    {
     "name": "stdout",
     "output_type": "stream",
     "text": [
      "\u001b[1m3724/3724\u001b[0m \u001b[32m━━━━━━━━━━━━━━━━━━━━\u001b[0m\u001b[37m\u001b[0m \u001b[1m4s\u001b[0m 1ms/step\n"
     ]
    },
    {
     "data": {
      "text/plain": [
       "0.7784250197250248"
      ]
     },
     "execution_count": 14,
     "metadata": {},
     "output_type": "execute_result"
    }
   ],
   "source": [
    "import xgboost as xgb\n",
    "from sklearn.metrics import accuracy_score\n",
    "\n",
    "###############################################################\n",
    "#              XGBoost call\n",
    "############################################################### \n",
    "xgb_model = xgb.XGBClassifier(n_estimators=100, learning_rate=0.05, random_state=42)\n",
    "xgb_model.fit(X_train_preprocessed, y_train)\n",
    "\n",
    "nn_probs = model.predict(X_test_preprocessed).flatten() \n",
    "xgb_probs = xgb_model.predict_proba(X_test_preprocessed)[:, 1]\n",
    "\n",
    "blended_probs = (nn_probs + xgb_probs) / 2\n",
    "blended_preds = (blended_probs >= 0.5).astype(int)  \n",
    "\n",
    "blended_accuracy = accuracy_score(y_test, blended_preds)\n",
    "blended_accuracy\n"
   ]
  },
  {
   "cell_type": "code",
   "execution_count": 13,
   "metadata": {},
   "outputs": [
    {
     "name": "stdout",
     "output_type": "stream",
     "text": [
      "\u001b[1m14893/14893\u001b[0m \u001b[32m━━━━━━━━━━━━━━━━━━━━\u001b[0m\u001b[37m\u001b[0m \u001b[1m10s\u001b[0m 663us/step\n",
      "\u001b[1m3724/3724\u001b[0m \u001b[32m━━━━━━━━━━━━━━━━━━━━\u001b[0m\u001b[37m\u001b[0m \u001b[1m3s\u001b[0m 727us/step\n",
      "Meta-Learner Test Accuracy: 0.7725\n"
     ]
    }
   ],
   "source": [
    "from sklearn.linear_model import LogisticRegression\n",
    "from sklearn.metrics import accuracy_score\n",
    "\n",
    "\n",
    "###############################################################\n",
    "#               XGBoost + NN\n",
    "############################################################### \n",
    "\n",
    "xgb_model = xgb.XGBClassifier(n_estimators=100, learning_rate=0.05, random_state=42)\n",
    "xgb_model.fit(X_train_preprocessed, y_train)\n",
    "\n",
    "nn_train_probs = model.predict(X_train_preprocessed).flatten()  \n",
    "xgb_train_probs = xgb_model.predict_proba(X_train_preprocessed)[:, 1]  \n",
    "\n",
    "meta_X_train = np.column_stack((nn_train_probs, xgb_train_probs))\n",
    "meta_y_train = y_train \n",
    "meta_learner = LogisticRegression()\n",
    "meta_learner.fit(meta_X_train, meta_y_train)\n",
    "\n",
    "nn_test_probs = model.predict(X_test_preprocessed).flatten()\n",
    "xgb_test_probs = xgb_model.predict_proba(X_test_preprocessed)[:, 1]\n",
    "\n",
    "meta_X_test = np.column_stack((nn_test_probs, xgb_test_probs))\n",
    "meta_preds = meta_learner.predict(meta_X_test)\n",
    "meta_accuracy = accuracy_score(y_test, meta_preds)\n",
    "print(f\"Meta-Learner Test Accuracy: {meta_accuracy:.4f}\")\n"
   ]
  },
  {
   "cell_type": "code",
   "execution_count": 15,
   "metadata": {},
   "outputs": [
    {
     "name": "stdout",
     "output_type": "stream",
     "text": [
      "\u001b[1m14893/14893\u001b[0m \u001b[32m━━━━━━━━━━━━━━━━━━━━\u001b[0m\u001b[37m\u001b[0m \u001b[1m13s\u001b[0m 883us/step\n",
      "\u001b[1m3724/3724\u001b[0m \u001b[32m━━━━━━━━━━━━━━━━━━━━\u001b[0m\u001b[37m\u001b[0m \u001b[1m3s\u001b[0m 672us/step\n",
      "Advanced Meta-Learner (Random Forest) Test Accuracy: 0.7670\n"
     ]
    }
   ],
   "source": [
    "from sklearn.ensemble import RandomForestClassifier\n",
    "from sklearn.metrics import accuracy_score\n",
    "\n",
    "\n",
    "###############################################################\n",
    "#               XGBoost + NN using RF\n",
    "############################################################### \n",
    "\n",
    "xgb_model = xgb.XGBClassifier(n_estimators=100, learning_rate=0.05, random_state=42)\n",
    "xgb_model.fit(X_train_preprocessed, y_train)\n",
    "\n",
    "nn_train_probs = model.predict(X_train_preprocessed).flatten()  \n",
    "xgb_train_probs = xgb_model.predict_proba(X_train_preprocessed)[:, 1]  \n",
    "\n",
    "meta_X_train = np.column_stack((nn_train_probs, xgb_train_probs))\n",
    "meta_y_train = y_train  # True labels\n",
    "meta_learner = RandomForestClassifier(n_estimators=100, random_state=42)\n",
    "meta_learner.fit(meta_X_train, meta_y_train)\n",
    "\n",
    "nn_test_probs = model.predict(X_test_preprocessed).flatten()\n",
    "xgb_test_probs = xgb_model.predict_proba(X_test_preprocessed)[:, 1]\n",
    "\n",
    "meta_X_test = np.column_stack((nn_test_probs, xgb_test_probs))\n",
    "meta_preds = meta_learner.predict(meta_X_test)\n",
    "meta_accuracy = accuracy_score(y_test, meta_preds)\n",
    "print(f\"Advanced Meta-Learner (Random Forest) Test Accuracy: {meta_accuracy:.4f}\")\n"
   ]
  },
  {
   "cell_type": "code",
   "execution_count": 16,
   "metadata": {},
   "outputs": [
    {
     "name": "stdout",
     "output_type": "stream",
     "text": [
      "[LightGBM] [Info] Number of positive: 357412, number of negative: 119137\n",
      "[LightGBM] [Info] Auto-choosing row-wise multi-threading, the overhead of testing was 0.013478 seconds.\n",
      "You can set `force_row_wise=true` to remove the overhead.\n",
      "And if memory is not enough, you can set `force_col_wise=true`.\n",
      "[LightGBM] [Info] Total Bins 2818\n",
      "[LightGBM] [Info] Number of data points in the train set: 476549, number of used features: 32\n",
      "[LightGBM] [Info] [binary:BoostFromScore]: pavg=0.750001 -> initscore=1.098615\n",
      "[LightGBM] [Info] Start training from score 1.098615\n",
      "\u001b[1m14893/14893\u001b[0m \u001b[32m━━━━━━━━━━━━━━━━━━━━\u001b[0m\u001b[37m\u001b[0m \u001b[1m11s\u001b[0m 748us/step\n"
     ]
    },
    {
     "name": "stderr",
     "output_type": "stream",
     "text": [
      "c:\\Users\\Jun\\AppData\\Local\\Programs\\Python\\Python39\\lib\\site-packages\\sklearn\\utils\\validation.py:2739: UserWarning: X does not have valid feature names, but LGBMClassifier was fitted with feature names\n",
      "  warnings.warn(\n"
     ]
    },
    {
     "name": "stdout",
     "output_type": "stream",
     "text": [
      "\u001b[1m3724/3724\u001b[0m \u001b[32m━━━━━━━━━━━━━━━━━━━━\u001b[0m\u001b[37m\u001b[0m \u001b[1m3s\u001b[0m 764us/step\n",
      "Meta-Learner (NN + LightGBM) Test Accuracy: 0.7723\n"
     ]
    },
    {
     "name": "stderr",
     "output_type": "stream",
     "text": [
      "c:\\Users\\Jun\\AppData\\Local\\Programs\\Python\\Python39\\lib\\site-packages\\sklearn\\utils\\validation.py:2739: UserWarning: X does not have valid feature names, but LGBMClassifier was fitted with feature names\n",
      "  warnings.warn(\n"
     ]
    }
   ],
   "source": [
    "import lightgbm as lgb\n",
    "from sklearn.linear_model import LogisticRegression\n",
    "from sklearn.metrics import accuracy_score\n",
    "\n",
    "\n",
    "\n",
    "###############################################################\n",
    "#               LIghtGBM + NN\n",
    "############################################################### \n",
    "\n",
    "\n",
    "lgb_model = lgb.LGBMClassifier(n_estimators=100, learning_rate=0.05, random_state=42)\n",
    "lgb_model.fit(X_train_preprocessed, y_train)\n",
    "\n",
    "nn_train_probs = model.predict(X_train_preprocessed).flatten()\n",
    "lgb_train_probs = lgb_model.predict_proba(X_train_preprocessed)[:, 1]\n",
    "\n",
    "meta_X_train = np.column_stack((nn_train_probs, lgb_train_probs))\n",
    "meta_learner = LogisticRegression()\n",
    "meta_learner.fit(meta_X_train, y_train)\n",
    "\n",
    "nn_test_probs = model.predict(X_test_preprocessed).flatten()\n",
    "lgb_test_probs = lgb_model.predict_proba(X_test_preprocessed)[:, 1]\n",
    "\n",
    "meta_X_test = np.column_stack((nn_test_probs, lgb_test_probs))\n",
    "meta_preds = meta_learner.predict(meta_X_test)\n",
    "meta_accuracy = accuracy_score(y_test, meta_preds)\n",
    "\n",
    "print(f\"Meta-Learner (NN + LightGBM) Test Accuracy: {meta_accuracy:.4f}\")\n"
   ]
  },
  {
   "cell_type": "code",
   "execution_count": 17,
   "metadata": {},
   "outputs": [
    {
     "name": "stdout",
     "output_type": "stream",
     "text": [
      "\u001b[1m14893/14893\u001b[0m \u001b[32m━━━━━━━━━━━━━━━━━━━━\u001b[0m\u001b[37m\u001b[0m \u001b[1m13s\u001b[0m 852us/step\n"
     ]
    },
    {
     "name": "stderr",
     "output_type": "stream",
     "text": [
      "c:\\Users\\Jun\\AppData\\Local\\Programs\\Python\\Python39\\lib\\site-packages\\sklearn\\utils\\validation.py:2739: UserWarning: X does not have valid feature names, but LGBMClassifier was fitted with feature names\n",
      "  warnings.warn(\n"
     ]
    },
    {
     "name": "stdout",
     "output_type": "stream",
     "text": [
      "\u001b[1m3724/3724\u001b[0m \u001b[32m━━━━━━━━━━━━━━━━━━━━\u001b[0m\u001b[37m\u001b[0m \u001b[1m3s\u001b[0m 825us/step\n",
      "Meta-Learner (NN + XGB + LGBM) Test Accuracy: 0.7717\n"
     ]
    },
    {
     "name": "stderr",
     "output_type": "stream",
     "text": [
      "c:\\Users\\Jun\\AppData\\Local\\Programs\\Python\\Python39\\lib\\site-packages\\sklearn\\utils\\validation.py:2739: UserWarning: X does not have valid feature names, but LGBMClassifier was fitted with feature names\n",
      "  warnings.warn(\n"
     ]
    }
   ],
   "source": [
    "import numpy as np\n",
    "from sklearn.linear_model import LogisticRegression\n",
    "from sklearn.metrics import accuracy_score\n",
    "\n",
    "###############################################################\n",
    "#               XGBoost + LightGBM + NN\n",
    "############################################################### \n",
    "nn_train_probs = model.predict(X_train_preprocessed).flatten()\n",
    "xgb_train_probs = xgb_model.predict_proba(X_train_preprocessed)[:, 1]\n",
    "lgb_train_probs = lgb_model.predict_proba(X_train_preprocessed)[:, 1]\n",
    "\n",
    "meta_X_train = np.column_stack((nn_train_probs, xgb_train_probs, lgb_train_probs))\n",
    "meta_y_train = y_train\n",
    "\n",
    "meta_learner = LogisticRegression()\n",
    "meta_learner.fit(meta_X_train, meta_y_train)\n",
    "\n",
    "nn_test_probs = model.predict(X_test_preprocessed).flatten()\n",
    "xgb_test_probs = xgb_model.predict_proba(X_test_preprocessed)[:, 1]\n",
    "lgb_test_probs = lgb_model.predict_proba(X_test_preprocessed)[:, 1]\n",
    "\n",
    "meta_X_test = np.column_stack((nn_test_probs, xgb_test_probs, lgb_test_probs))\n",
    "meta_preds = meta_learner.predict(meta_X_test)\n",
    "meta_accuracy = accuracy_score(y_test, meta_preds)\n",
    "print(f\"Meta-Learner (NN + XGB + LGBM) Test Accuracy: {meta_accuracy:.4f}\")\n",
    "\n"
   ]
  },
  {
   "cell_type": "code",
   "execution_count": 21,
   "metadata": {},
   "outputs": [
    {
     "name": "stderr",
     "output_type": "stream",
     "text": [
      "WARNING:absl:You are saving your model as an HDF5 file via `model.save()` or `keras.saving.save_model(model)`. This file format is considered legacy. We recommend using instead the native Keras format, e.g. `model.save('my_model.keras')` or `keras.saving.save_model(model, 'my_model.keras')`. \n"
     ]
    },
    {
     "name": "stdout",
     "output_type": "stream",
     "text": [
      "[[10.35089515 17.42123358 20.07461631]]\n"
     ]
    },
    {
     "data": {
      "text/plain": [
       "['meta_learner.pkl']"
      ]
     },
     "execution_count": 21,
     "metadata": {},
     "output_type": "execute_result"
    }
   ],
   "source": [
    "import joblib\n",
    "\n",
    "###############################################################\n",
    "#               Model Saving\n",
    "############################################################### \n",
    "print(meta_learner.coef_)\n",
    "model.save(\"neural_net_model.h5\")  \n",
    "joblib.dump(xgb_model, \"xgboost_model.pkl\") \n",
    "joblib.dump(meta_learner, \"meta_learner.pkl\")  \n",
    "\n"
   ]
  },
  {
   "cell_type": "code",
   "execution_count": 20,
   "id": "83e99116",
   "metadata": {},
   "outputs": [
    {
     "data": {
      "text/plain": [
       "['preprocessor.pkl']"
      ]
     },
     "execution_count": 20,
     "metadata": {},
     "output_type": "execute_result"
    }
   ],
   "source": [
    "\n",
    "# Step 1: Rebuild the preprocessing pipeline using training data (df_train)\n",
    "from sklearn.preprocessing import StandardScaler, OneHotEncoder\n",
    "from sklearn.compose import ColumnTransformer\n",
    "\n",
    "preprocessor = ColumnTransformer(transformers=[\n",
    "    ('num', StandardScaler(), numerical_cols),\n",
    "])\n",
    "\n",
    "\n",
    "import joblib\n",
    "joblib.dump(preprocessor, 'preprocessor.pkl')\n"
   ]
  },
  {
   "cell_type": "code",
   "execution_count": 22,
   "metadata": {},
   "outputs": [
    {
     "name": "stderr",
     "output_type": "stream",
     "text": [
      "WARNING:absl:Compiled the loaded model, but the compiled metrics have yet to be built. `model.compile_metrics` will be empty until you train or evaluate the model.\n"
     ]
    },
    {
     "name": "stdout",
     "output_type": "stream",
     "text": [
      "(None, 32)\n"
     ]
    }
   ],
   "source": [
    "from tensorflow.keras.models import load_model\n",
    "\n",
    "model = load_model(\"neural_net_model.h5\")\n",
    "print(model.input_shape)  # Example output: (None, 32)"
   ]
  }
 ],
 "metadata": {
  "kernelspec": {
   "display_name": "Python 3",
   "language": "python",
   "name": "python3"
  },
  "language_info": {
   "codemirror_mode": {
    "name": "ipython",
    "version": 3
   },
   "file_extension": ".py",
   "mimetype": "text/x-python",
   "name": "python",
   "nbconvert_exporter": "python",
   "pygments_lexer": "ipython3",
   "version": "3.9.6"
  }
 },
 "nbformat": 4,
 "nbformat_minor": 2
}
