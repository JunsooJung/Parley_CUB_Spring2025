{
 "cells": [
  {
   "cell_type": "code",
   "execution_count": 2,
   "metadata": {},
   "outputs": [],
   "source": [
    "import pandas as pd\n",
    "import numpy as np\n",
    "from sklearn.model_selection import train_test_split\n",
    "from sklearn.metrics import classification_report, roc_auc_score, precision_recall_curve\n",
    "from imblearn.over_sampling import SMOTE\n",
    "import matplotlib.pyplot as plt\n",
    "from sklearn.preprocessing import StandardScaler, OneHotEncoder\n",
    "from sklearn.compose import ColumnTransformer\n",
    "from sklearn.pipeline import Pipeline"
   ]
  },
  {
   "cell_type": "code",
   "execution_count": 3,
   "metadata": {},
   "outputs": [
    {
     "data": {
      "text/plain": [
       "Eligibility\n",
       "['7(a)', '504']    446766\n",
       "0                  148921\n",
       "Name: count, dtype: int64"
      ]
     },
     "execution_count": 3,
     "metadata": {},
     "output_type": "execute_result"
    }
   ],
   "source": [
    "df = pd.read_csv(\"Synthetic_SBA_Loans.csv\")\n",
    "\n",
    "avg_score = df['Eligibility Score'].mean()\n",
    "below_avg = df[df['Eligibility Score'] < avg_score]\n",
    "\n",
    "n_decline = int(0.25 * len(df))\n",
    "decline_indices = below_avg.sample(n=n_decline, random_state=42).index\n",
    "df.loc[decline_indices, 'Eligibility'] = '0'\n",
    "eligibility_counts = df['Eligibility'].value_counts()\n",
    "eligibility_counts"
   ]
  },
  {
   "cell_type": "code",
   "execution_count": 4,
   "metadata": {},
   "outputs": [
    {
     "data": {
      "text/plain": [
       "Eligibility\n",
       "1    446766\n",
       "0    148921\n",
       "Name: count, dtype: int64"
      ]
     },
     "execution_count": 4,
     "metadata": {},
     "output_type": "execute_result"
    }
   ],
   "source": [
    "df['Eligibility'] = df['Eligibility'].apply(lambda x: 1 if x == \"['7(a)', '504']\" else 0)\n",
    "df['Eligibility'].value_counts()"
   ]
  },
  {
   "cell_type": "code",
   "execution_count": 5,
   "metadata": {},
   "outputs": [
    {
     "data": {
      "text/plain": [
       "((476549, 46),\n",
       " (119138, 46),\n",
       " Eligibility\n",
       " 1    0.750001\n",
       " 0    0.249999\n",
       " Name: proportion, dtype: float64,\n",
       " Eligibility\n",
       " 1    0.750004\n",
       " 0    0.249996\n",
       " Name: proportion, dtype: float64)"
      ]
     },
     "execution_count": 5,
     "metadata": {},
     "output_type": "execute_result"
    }
   ],
   "source": [
    "X = df.drop(columns=['Eligibility'])\n",
    "y = df['Eligibility']\n",
    "\n",
    "X_train, X_test, y_train, y_test = train_test_split(\n",
    "    X, y, test_size=0.2, stratify=y, random_state=42\n",
    ")\n",
    "\n",
    "X_train.shape, X_test.shape, y_train.value_counts(normalize=True), y_test.value_counts(normalize=True)"
   ]
  },
  {
   "cell_type": "code",
   "execution_count": 6,
   "metadata": {},
   "outputs": [],
   "source": [
    "drop_cols = ['Applicant ID', 'Location', 'Country', 'NAICS']\n",
    "X_train_cleaned = X_train.drop(columns=drop_cols + ['Eligibility Score'])\n",
    "X_test_cleaned = X_test.drop(columns=drop_cols + ['Eligibility Score'])\n",
    "\n",
    "categorical_cols = ['Business Structure']\n",
    "numerical_cols = X_train_cleaned.select_dtypes(include=['int64', 'float64', 'bool']).columns.tolist()\n",
    "numerical_cols = [col for col in numerical_cols if col not in categorical_cols]\n",
    "\n",
    "preprocessor = ColumnTransformer(\n",
    "    transformers=[\n",
    "        ('num', StandardScaler(), numerical_cols),\n",
    "        ('cat', OneHotEncoder(drop='first', handle_unknown='ignore'), categorical_cols)\n",
    "    ]\n",
    ")\n",
    "\n",
    "preprocessing_pipeline = Pipeline(steps=[\n",
    "    ('preprocessor', preprocessor)\n",
    "])\n",
    "\n",
    "X_train_preprocessed = preprocessing_pipeline.fit_transform(X_train_cleaned)\n",
    "X_test_preprocessed = preprocessing_pipeline.transform(X_test_cleaned)"
   ]
  },
  {
   "cell_type": "code",
   "execution_count": 7,
   "metadata": {},
   "outputs": [
    {
     "name": "stdout",
     "output_type": "stream",
     "text": [
      "Epoch 1/20\n"
     ]
    },
    {
     "name": "stderr",
     "output_type": "stream",
     "text": [
      "c:\\Users\\Jun\\AppData\\Local\\Programs\\Python\\Python39\\lib\\site-packages\\keras\\src\\layers\\core\\dense.py:87: UserWarning: Do not pass an `input_shape`/`input_dim` argument to a layer. When using Sequential models, prefer using an `Input(shape)` object as the first layer in the model instead.\n",
      "  super().__init__(activity_regularizer=activity_regularizer, **kwargs)\n"
     ]
    },
    {
     "name": "stdout",
     "output_type": "stream",
     "text": [
      "\u001b[1m3351/3351\u001b[0m \u001b[32m━━━━━━━━━━━━━━━━━━━━\u001b[0m\u001b[37m\u001b[0m \u001b[1m6s\u001b[0m 1ms/step - accuracy: 0.7455 - loss: 0.4639 - val_accuracy: 0.7572 - val_loss: 0.4144\n",
      "Epoch 2/20\n",
      "\u001b[1m3351/3351\u001b[0m \u001b[32m━━━━━━━━━━━━━━━━━━━━\u001b[0m\u001b[37m\u001b[0m \u001b[1m5s\u001b[0m 1ms/step - accuracy: 0.7568 - loss: 0.4182 - val_accuracy: 0.7603 - val_loss: 0.4045\n",
      "Epoch 3/20\n",
      "\u001b[1m3351/3351\u001b[0m \u001b[32m━━━━━━━━━━━━━━━━━━━━\u001b[0m\u001b[37m\u001b[0m \u001b[1m5s\u001b[0m 2ms/step - accuracy: 0.7587 - loss: 0.4106 - val_accuracy: 0.7619 - val_loss: 0.4003\n",
      "Epoch 4/20\n",
      "\u001b[1m3351/3351\u001b[0m \u001b[32m━━━━━━━━━━━━━━━━━━━━\u001b[0m\u001b[37m\u001b[0m \u001b[1m5s\u001b[0m 1ms/step - accuracy: 0.7600 - loss: 0.4072 - val_accuracy: 0.7643 - val_loss: 0.3979\n",
      "Epoch 5/20\n",
      "\u001b[1m3351/3351\u001b[0m \u001b[32m━━━━━━━━━━━━━━━━━━━━\u001b[0m\u001b[37m\u001b[0m \u001b[1m5s\u001b[0m 2ms/step - accuracy: 0.7629 - loss: 0.4021 - val_accuracy: 0.7640 - val_loss: 0.3964\n",
      "Epoch 6/20\n",
      "\u001b[1m3351/3351\u001b[0m \u001b[32m━━━━━━━━━━━━━━━━━━━━\u001b[0m\u001b[37m\u001b[0m \u001b[1m5s\u001b[0m 2ms/step - accuracy: 0.7628 - loss: 0.4010 - val_accuracy: 0.7648 - val_loss: 0.3951\n",
      "Epoch 7/20\n",
      "\u001b[1m3351/3351\u001b[0m \u001b[32m━━━━━━━━━━━━━━━━━━━━\u001b[0m\u001b[37m\u001b[0m \u001b[1m5s\u001b[0m 2ms/step - accuracy: 0.7610 - loss: 0.4008 - val_accuracy: 0.7641 - val_loss: 0.3932\n",
      "Epoch 8/20\n",
      "\u001b[1m3351/3351\u001b[0m \u001b[32m━━━━━━━━━━━━━━━━━━━━\u001b[0m\u001b[37m\u001b[0m \u001b[1m6s\u001b[0m 2ms/step - accuracy: 0.7639 - loss: 0.3978 - val_accuracy: 0.7641 - val_loss: 0.3917\n",
      "Epoch 9/20\n",
      "\u001b[1m3351/3351\u001b[0m \u001b[32m━━━━━━━━━━━━━━━━━━━━\u001b[0m\u001b[37m\u001b[0m \u001b[1m9s\u001b[0m 3ms/step - accuracy: 0.7636 - loss: 0.3964 - val_accuracy: 0.7635 - val_loss: 0.3908\n",
      "Epoch 10/20\n",
      "\u001b[1m3351/3351\u001b[0m \u001b[32m━━━━━━━━━━━━━━━━━━━━\u001b[0m\u001b[37m\u001b[0m \u001b[1m6s\u001b[0m 2ms/step - accuracy: 0.7642 - loss: 0.3946 - val_accuracy: 0.7638 - val_loss: 0.3904\n",
      "Epoch 11/20\n",
      "\u001b[1m3351/3351\u001b[0m \u001b[32m━━━━━━━━━━━━━━━━━━━━\u001b[0m\u001b[37m\u001b[0m \u001b[1m6s\u001b[0m 2ms/step - accuracy: 0.7641 - loss: 0.3940 - val_accuracy: 0.7662 - val_loss: 0.3908\n",
      "Epoch 12/20\n",
      "\u001b[1m3351/3351\u001b[0m \u001b[32m━━━━━━━━━━━━━━━━━━━━\u001b[0m\u001b[37m\u001b[0m \u001b[1m6s\u001b[0m 2ms/step - accuracy: 0.7643 - loss: 0.3944 - val_accuracy: 0.7655 - val_loss: 0.3890\n",
      "Epoch 13/20\n",
      "\u001b[1m3351/3351\u001b[0m \u001b[32m━━━━━━━━━━━━━━━━━━━━\u001b[0m\u001b[37m\u001b[0m \u001b[1m7s\u001b[0m 2ms/step - accuracy: 0.7634 - loss: 0.3931 - val_accuracy: 0.7661 - val_loss: 0.3876\n",
      "Epoch 14/20\n",
      "\u001b[1m3351/3351\u001b[0m \u001b[32m━━━━━━━━━━━━━━━━━━━━\u001b[0m\u001b[37m\u001b[0m \u001b[1m7s\u001b[0m 2ms/step - accuracy: 0.7645 - loss: 0.3926 - val_accuracy: 0.7663 - val_loss: 0.3868\n",
      "Epoch 15/20\n",
      "\u001b[1m3351/3351\u001b[0m \u001b[32m━━━━━━━━━━━━━━━━━━━━\u001b[0m\u001b[37m\u001b[0m \u001b[1m7s\u001b[0m 2ms/step - accuracy: 0.7643 - loss: 0.3918 - val_accuracy: 0.7665 - val_loss: 0.3864\n",
      "Epoch 16/20\n",
      "\u001b[1m3351/3351\u001b[0m \u001b[32m━━━━━━━━━━━━━━━━━━━━\u001b[0m\u001b[37m\u001b[0m \u001b[1m6s\u001b[0m 2ms/step - accuracy: 0.7653 - loss: 0.3896 - val_accuracy: 0.7657 - val_loss: 0.3864\n",
      "Epoch 17/20\n",
      "\u001b[1m3351/3351\u001b[0m \u001b[32m━━━━━━━━━━━━━━━━━━━━\u001b[0m\u001b[37m\u001b[0m \u001b[1m9s\u001b[0m 3ms/step - accuracy: 0.7657 - loss: 0.3896 - val_accuracy: 0.7648 - val_loss: 0.3854\n",
      "Epoch 18/20\n",
      "\u001b[1m3351/3351\u001b[0m \u001b[32m━━━━━━━━━━━━━━━━━━━━\u001b[0m\u001b[37m\u001b[0m \u001b[1m6s\u001b[0m 2ms/step - accuracy: 0.7652 - loss: 0.3887 - val_accuracy: 0.7679 - val_loss: 0.3851\n",
      "Epoch 19/20\n",
      "\u001b[1m3351/3351\u001b[0m \u001b[32m━━━━━━━━━━━━━━━━━━━━\u001b[0m\u001b[37m\u001b[0m \u001b[1m6s\u001b[0m 2ms/step - accuracy: 0.7641 - loss: 0.3888 - val_accuracy: 0.7668 - val_loss: 0.3852\n",
      "Epoch 20/20\n",
      "\u001b[1m3351/3351\u001b[0m \u001b[32m━━━━━━━━━━━━━━━━━━━━\u001b[0m\u001b[37m\u001b[0m \u001b[1m7s\u001b[0m 2ms/step - accuracy: 0.7643 - loss: 0.3900 - val_accuracy: 0.7669 - val_loss: 0.3847\n",
      "\u001b[1m3724/3724\u001b[0m \u001b[32m━━━━━━━━━━━━━━━━━━━━\u001b[0m\u001b[37m\u001b[0m \u001b[1m4s\u001b[0m 1ms/step - accuracy: 0.7649 - loss: 0.3833\n",
      "Test Accuracy: 0.7669\n"
     ]
    }
   ],
   "source": [
    "import tensorflow as tf\n",
    "from tensorflow import keras\n",
    "from tensorflow.keras.models import Sequential\n",
    "from tensorflow.keras.layers import Dense, BatchNormalization, Dropout\n",
    "from tensorflow.keras.optimizers import Adam\n",
    "from tensorflow.keras.callbacks import EarlyStopping\n",
    "\n",
    "lr = 0.0005\n",
    "epoch = 20\n",
    "\n",
    "early_stopping = EarlyStopping(\n",
    "    monitor='val_loss',   \n",
    "    patience=3,           \n",
    "    restore_best_weights=True \n",
    ")\n",
    "\n",
    "input_shape = X_train_preprocessed.shape[1]\n",
    "\n",
    "model = Sequential([\n",
    "    Dense(128, activation='relu', input_shape=(input_shape,)),\n",
    "    BatchNormalization(),\n",
    "    Dropout(0.2),  \n",
    "    Dense(64, activation='relu'),\n",
    "    BatchNormalization(),\n",
    "    Dropout(0.2),\n",
    "    Dense(32, activation='relu'),\n",
    "    Dense(1, activation='sigmoid')  \n",
    "])\n",
    "\n",
    "model.compile(optimizer=Adam(learning_rate=lr),\n",
    "              loss='binary_crossentropy',\n",
    "              metrics=['accuracy'])\n",
    "\n",
    "history = model.fit(X_train_preprocessed, y_train,\n",
    "                    validation_split=0.1,\n",
    "                    epochs=epoch,\n",
    "                    batch_size=128,\n",
    "                    verbose=1,\n",
    "                    callbacks=[early_stopping]) \n",
    "\n",
    "test_loss, test_acc = model.evaluate(X_test_preprocessed, y_test)\n",
    "print(f\"Test Accuracy: {test_acc:.4f}\")\n"
   ]
  },
  {
   "cell_type": "code",
   "execution_count": 8,
   "metadata": {},
   "outputs": [
    {
     "name": "stdout",
     "output_type": "stream",
     "text": [
      "                         Feature  Importance\n",
      "5          Personal Credit Score    0.076581\n",
      "13   Business Debt (latest year)    0.056965\n",
      "22             Years in Business    0.053641\n",
      "16             NOI (latest year)    0.049912\n",
      "20           Industry Experience    0.045714\n",
      "9   Annual Revenue (latest year)    0.044631\n",
      "21         Managerial Experience    0.044433\n",
      "10             Net Profit Margin    0.043161\n",
      "24                   Loan Amount    0.041571\n",
      "19            DSCR (latest year)    0.040472\n",
      "7   Annual Revenue (2 years ago)    0.035900\n",
      "8    Annual Revenue (1 year ago)    0.035880\n",
      "11   Business Debt (2 years ago)    0.034663\n",
      "14             NOI (2 years ago)    0.034662\n",
      "15              NOI (1 year ago)    0.034585\n",
      "12    Business Debt (1 year ago)    0.034420\n",
      "17            DSCR (2 years ago)    0.034273\n",
      "18             DSCR (1 year ago)    0.034159\n",
      "6          Business Credit Score    0.030110\n",
      "27           Acquisition Request    0.028831\n"
     ]
    }
   ],
   "source": [
    "import pandas as pd\n",
    "import numpy as np\n",
    "from sklearn.ensemble import RandomForestClassifier\n",
    "\n",
    "rf_model = RandomForestClassifier(n_estimators=100, random_state=42)\n",
    "rf_model.fit(X_train_preprocessed, y_train)\n",
    "\n",
    "feature_importances = rf_model.feature_importances_\n",
    "num_features = preprocessing_pipeline.named_steps['preprocessor'].transformers_[0][2]  \n",
    "cat_feature_names = preprocessing_pipeline.named_steps['preprocessor'].transformers_[1][1].get_feature_names_out()  \n",
    "feature_names = list(num_features) + list(cat_feature_names)\n",
    "\n",
    "feature_importance_df = pd.DataFrame({'Feature': feature_names, 'Importance': feature_importances})\n",
    "feature_importance_df = feature_importance_df.sort_values(by='Importance', ascending=False)\n",
    "\n",
    "print(feature_importance_df.head(20))\n",
    "\n",
    "\n"
   ]
  },
  {
   "cell_type": "code",
   "execution_count": 9,
   "metadata": {},
   "outputs": [
    {
     "name": "stdout",
     "output_type": "stream",
     "text": [
      "\u001b[1m3724/3724\u001b[0m \u001b[32m━━━━━━━━━━━━━━━━━━━━\u001b[0m\u001b[37m\u001b[0m \u001b[1m2s\u001b[0m 569us/step\n",
      "Brier Score (lower is better): 0.1348\n"
     ]
    },
    {
     "data": {
      "image/png": "[encoded data removed]",
      "text/plain": [
       "<Figure size 600x600 with 1 Axes>"
      ]
     },
     "metadata": {},
     "output_type": "display_data"
    }
   ],
   "source": [
    "from sklearn.linear_model import LogisticRegression\n",
    "from sklearn.metrics import brier_score_loss\n",
    "from sklearn.calibration import calibration_curve\n",
    "import matplotlib.pyplot as plt\n",
    "\n",
    "val_probs = model.predict(X_test_preprocessed)\n",
    "val_probs = val_probs.flatten()  \n",
    "\n",
    "calibrator = LogisticRegression()\n",
    "calibrator.fit(val_probs.reshape(-1, 1), y_test)\n",
    "calibrated_probs = calibrator.predict_proba(val_probs.reshape(-1, 1))[:, 1]\n",
    "\n",
    "brier = brier_score_loss(y_test, calibrated_probs)\n",
    "print(f\"Brier Score (lower is better): {brier:.4f}\")\n",
    "\n",
    "prob_true, prob_pred = calibration_curve(y_test, calibrated_probs, n_bins=10)\n",
    "\n",
    "plt.figure(figsize=(6, 6))\n",
    "plt.plot(prob_pred, prob_true, marker='o', label='Calibrated')\n",
    "plt.plot([0, 1], [0, 1], linestyle='--', label='Perfectly Calibrated')\n",
    "plt.xlabel('Mean Predicted Probability')\n",
    "plt.ylabel('Fraction of Positives')\n",
    "plt.title('Calibration Curve')\n",
    "plt.legend()\n",
    "plt.grid(True)\n",
    "plt.show()\n"
   ]
  },
  {
   "cell_type": "code",
   "execution_count": 10,
   "metadata": {},
   "outputs": [
    {
     "name": "stdout",
     "output_type": "stream",
     "text": [
      "\u001b[1m3724/3724\u001b[0m \u001b[32m━━━━━━━━━━━━━━━━━━━━\u001b[0m\u001b[37m\u001b[0m \u001b[1m3s\u001b[0m 694us/step\n"
     ]
    },
    {
     "data": {
      "text/plain": [
       "0.7614866793130656"
      ]
     },
     "execution_count": 10,
     "metadata": {},
     "output_type": "execute_result"
    }
   ],
   "source": [
    "import xgboost as xgb\n",
    "from sklearn.metrics import accuracy_score\n",
    "\n",
    "xgb_model = xgb.XGBClassifier(n_estimators=100, learning_rate=0.05, random_state=42)\n",
    "xgb_model.fit(X_train_preprocessed, y_train)\n",
    "\n",
    "nn_probs = model.predict(X_test_preprocessed).flatten() \n",
    "xgb_probs = xgb_model.predict_proba(X_test_preprocessed)[:, 1]\n",
    "\n",
    "blended_probs = (nn_probs + xgb_probs) / 2\n",
    "blended_preds = (blended_probs >= 0.5).astype(int)  \n",
    "\n",
    "blended_accuracy = accuracy_score(y_test, blended_preds)\n",
    "blended_accuracy\n"
   ]
  },
  {
   "cell_type": "code",
   "execution_count": 11,
   "metadata": {},
   "outputs": [
    {
     "name": "stdout",
     "output_type": "stream",
     "text": [
      "\u001b[1m14893/14893\u001b[0m \u001b[32m━━━━━━━━━━━━━━━━━━━━\u001b[0m\u001b[37m\u001b[0m \u001b[1m9s\u001b[0m 573us/step\n",
      "\u001b[1m3724/3724\u001b[0m \u001b[32m━━━━━━━━━━━━━━━━━━━━\u001b[0m\u001b[37m\u001b[0m \u001b[1m2s\u001b[0m 571us/step\n",
      "Meta-Learner Test Accuracy: 0.7659\n"
     ]
    }
   ],
   "source": [
    "from sklearn.linear_model import LogisticRegression\n",
    "from sklearn.metrics import accuracy_score\n",
    "\n",
    "xgb_model = xgb.XGBClassifier(n_estimators=100, learning_rate=0.05, random_state=42)\n",
    "xgb_model.fit(X_train_preprocessed, y_train)\n",
    "\n",
    "nn_train_probs = model.predict(X_train_preprocessed).flatten()  \n",
    "xgb_train_probs = xgb_model.predict_proba(X_train_preprocessed)[:, 1]  \n",
    "\n",
    "meta_X_train = np.column_stack((nn_train_probs, xgb_train_probs))\n",
    "meta_y_train = y_train \n",
    "meta_learner = LogisticRegression()\n",
    "meta_learner.fit(meta_X_train, meta_y_train)\n",
    "\n",
    "nn_test_probs = model.predict(X_test_preprocessed).flatten()\n",
    "xgb_test_probs = xgb_model.predict_proba(X_test_preprocessed)[:, 1]\n",
    "\n",
    "meta_X_test = np.column_stack((nn_test_probs, xgb_test_probs))\n",
    "meta_preds = meta_learner.predict(meta_X_test)\n",
    "meta_accuracy = accuracy_score(y_test, meta_preds)\n",
    "print(f\"Meta-Learner Test Accuracy: {meta_accuracy:.4f}\")\n"
   ]
  },
  {
   "cell_type": "code",
   "execution_count": 12,
   "metadata": {},
   "outputs": [
    {
     "name": "stdout",
     "output_type": "stream",
     "text": [
      "\u001b[1m14893/14893\u001b[0m \u001b[32m━━━━━━━━━━━━━━━━━━━━\u001b[0m\u001b[37m\u001b[0m \u001b[1m11s\u001b[0m 727us/step\n",
      "\u001b[1m3724/3724\u001b[0m \u001b[32m━━━━━━━━━━━━━━━━━━━━\u001b[0m\u001b[37m\u001b[0m \u001b[1m3s\u001b[0m 742us/step\n",
      "Advanced Meta-Learner (Random Forest) Test Accuracy: 0.7590\n"
     ]
    }
   ],
   "source": [
    "from sklearn.ensemble import RandomForestClassifier\n",
    "from sklearn.metrics import accuracy_score\n",
    "\n",
    "xgb_model = xgb.XGBClassifier(n_estimators=100, learning_rate=0.05, random_state=42)\n",
    "xgb_model.fit(X_train_preprocessed, y_train)\n",
    "\n",
    "nn_train_probs = model.predict(X_train_preprocessed).flatten()  \n",
    "xgb_train_probs = xgb_model.predict_proba(X_train_preprocessed)[:, 1]  \n",
    "\n",
    "meta_X_train = np.column_stack((nn_train_probs, xgb_train_probs))\n",
    "meta_y_train = y_train  # True labels\n",
    "meta_learner = RandomForestClassifier(n_estimators=100, random_state=42)\n",
    "meta_learner.fit(meta_X_train, meta_y_train)\n",
    "\n",
    "nn_test_probs = model.predict(X_test_preprocessed).flatten()\n",
    "xgb_test_probs = xgb_model.predict_proba(X_test_preprocessed)[:, 1]\n",
    "\n",
    "meta_X_test = np.column_stack((nn_test_probs, xgb_test_probs))\n",
    "meta_preds = meta_learner.predict(meta_X_test)\n",
    "meta_accuracy = accuracy_score(y_test, meta_preds)\n",
    "print(f\"Advanced Meta-Learner (Random Forest) Test Accuracy: {meta_accuracy:.4f}\")\n"
   ]
  },
  {
   "cell_type": "code",
   "execution_count": 13,
   "metadata": {},
   "outputs": [
    {
     "name": "stdout",
     "output_type": "stream",
     "text": [
      "[LightGBM] [Info] Number of positive: 357412, number of negative: 119137\n",
      "[LightGBM] [Info] Auto-choosing row-wise multi-threading, the overhead of testing was 0.014679 seconds.\n",
      "You can set `force_row_wise=true` to remove the overhead.\n",
      "And if memory is not enough, you can set `force_col_wise=true`.\n",
      "[LightGBM] [Info] Total Bins 3662\n",
      "[LightGBM] [Info] Number of data points in the train set: 476549, number of used features: 44\n",
      "[LightGBM] [Info] [binary:BoostFromScore]: pavg=0.750001 -> initscore=1.098615\n",
      "[LightGBM] [Info] Start training from score 1.098615\n",
      "\u001b[1m14893/14893\u001b[0m \u001b[32m━━━━━━━━━━━━━━━━━━━━\u001b[0m\u001b[37m\u001b[0m \u001b[1m10s\u001b[0m 697us/step\n"
     ]
    },
    {
     "name": "stderr",
     "output_type": "stream",
     "text": [
      "c:\\Users\\Jun\\AppData\\Local\\Programs\\Python\\Python39\\lib\\site-packages\\sklearn\\utils\\validation.py:2739: UserWarning: X does not have valid feature names, but LGBMClassifier was fitted with feature names\n",
      "  warnings.warn(\n"
     ]
    },
    {
     "name": "stdout",
     "output_type": "stream",
     "text": [
      "\u001b[1m3724/3724\u001b[0m \u001b[32m━━━━━━━━━━━━━━━━━━━━\u001b[0m\u001b[37m\u001b[0m \u001b[1m2s\u001b[0m 589us/step\n",
      "Meta-Learner (NN + LightGBM) Test Accuracy: 0.7660\n"
     ]
    },
    {
     "name": "stderr",
     "output_type": "stream",
     "text": [
      "c:\\Users\\Jun\\AppData\\Local\\Programs\\Python\\Python39\\lib\\site-packages\\sklearn\\utils\\validation.py:2739: UserWarning: X does not have valid feature names, but LGBMClassifier was fitted with feature names\n",
      "  warnings.warn(\n"
     ]
    }
   ],
   "source": [
    "import lightgbm as lgb\n",
    "from sklearn.linear_model import LogisticRegression\n",
    "from sklearn.metrics import accuracy_score\n",
    "\n",
    "lgb_model = lgb.LGBMClassifier(n_estimators=100, learning_rate=0.05, random_state=42)\n",
    "lgb_model.fit(X_train_preprocessed, y_train)\n",
    "\n",
    "nn_train_probs = model.predict(X_train_preprocessed).flatten()\n",
    "lgb_train_probs = lgb_model.predict_proba(X_train_preprocessed)[:, 1]\n",
    "\n",
    "meta_X_train = np.column_stack((nn_train_probs, lgb_train_probs))\n",
    "meta_learner = LogisticRegression()\n",
    "meta_learner.fit(meta_X_train, y_train)\n",
    "\n",
    "nn_test_probs = model.predict(X_test_preprocessed).flatten()\n",
    "lgb_test_probs = lgb_model.predict_proba(X_test_preprocessed)[:, 1]\n",
    "\n",
    "meta_X_test = np.column_stack((nn_test_probs, lgb_test_probs))\n",
    "meta_preds = meta_learner.predict(meta_X_test)\n",
    "meta_accuracy = accuracy_score(y_test, meta_preds)\n",
    "\n",
    "print(f\"Meta-Learner (NN + LightGBM) Test Accuracy: {meta_accuracy:.4f}\")\n"
   ]
  },
  {
   "cell_type": "code",
   "execution_count": 14,
   "metadata": {},
   "outputs": [
    {
     "name": "stdout",
     "output_type": "stream",
     "text": [
      "\u001b[1m14893/14893\u001b[0m \u001b[32m━━━━━━━━━━━━━━━━━━━━\u001b[0m\u001b[37m\u001b[0m \u001b[1m10s\u001b[0m 638us/step\n"
     ]
    },
    {
     "name": "stderr",
     "output_type": "stream",
     "text": [
      "c:\\Users\\Jun\\AppData\\Local\\Programs\\Python\\Python39\\lib\\site-packages\\sklearn\\utils\\validation.py:2739: UserWarning: X does not have valid feature names, but LGBMClassifier was fitted with feature names\n",
      "  warnings.warn(\n"
     ]
    },
    {
     "name": "stdout",
     "output_type": "stream",
     "text": [
      "\u001b[1m3724/3724\u001b[0m \u001b[32m━━━━━━━━━━━━━━━━━━━━\u001b[0m\u001b[37m\u001b[0m \u001b[1m2s\u001b[0m 605us/step\n",
      "Meta-Learner (NN + XGB + LGBM) Test Accuracy: 0.7659\n"
     ]
    },
    {
     "name": "stderr",
     "output_type": "stream",
     "text": [
      "c:\\Users\\Jun\\AppData\\Local\\Programs\\Python\\Python39\\lib\\site-packages\\sklearn\\utils\\validation.py:2739: UserWarning: X does not have valid feature names, but LGBMClassifier was fitted with feature names\n",
      "  warnings.warn(\n"
     ]
    }
   ],
   "source": [
    "import numpy as np\n",
    "from sklearn.linear_model import LogisticRegression\n",
    "from sklearn.metrics import accuracy_score\n",
    "\n",
    "nn_train_probs = model.predict(X_train_preprocessed).flatten()\n",
    "xgb_train_probs = xgb_model.predict_proba(X_train_preprocessed)[:, 1]\n",
    "lgb_train_probs = lgb_model.predict_proba(X_train_preprocessed)[:, 1]\n",
    "\n",
    "meta_X_train = np.column_stack((nn_train_probs, xgb_train_probs, lgb_train_probs))\n",
    "meta_y_train = y_train\n",
    "\n",
    "meta_learner = LogisticRegression()\n",
    "meta_learner.fit(meta_X_train, meta_y_train)\n",
    "\n",
    "nn_test_probs = model.predict(X_test_preprocessed).flatten()\n",
    "xgb_test_probs = xgb_model.predict_proba(X_test_preprocessed)[:, 1]\n",
    "lgb_test_probs = lgb_model.predict_proba(X_test_preprocessed)[:, 1]\n",
    "\n",
    "meta_X_test = np.column_stack((nn_test_probs, xgb_test_probs, lgb_test_probs))\n",
    "meta_preds = meta_learner.predict(meta_X_test)\n",
    "meta_accuracy = accuracy_score(y_test, meta_preds)\n",
    "print(f\"Meta-Learner (NN + XGB + LGBM) Test Accuracy: {meta_accuracy:.4f}\")\n",
    "\n"
   ]
  },
  {
   "cell_type": "code",
   "execution_count": 15,
   "metadata": {},
   "outputs": [
    {
     "name": "stderr",
     "output_type": "stream",
     "text": [
      "WARNING:absl:You are saving your model as an HDF5 file via `model.save()` or `keras.saving.save_model(model)`. This file format is considered legacy. We recommend using instead the native Keras format, e.g. `model.save('my_model.keras')` or `keras.saving.save_model(model, 'my_model.keras')`. \n"
     ]
    },
    {
     "name": "stdout",
     "output_type": "stream",
     "text": [
      "[[5.41405828 1.22397942 1.37478358]]\n"
     ]
    },
    {
     "data": {
      "text/plain": [
       "['meta_learner.pkl']"
      ]
     },
     "execution_count": 15,
     "metadata": {},
     "output_type": "execute_result"
    }
   ],
   "source": [
    "import joblib\n",
    "\n",
    "print(meta_learner.coef_)\n",
    "model.save(\"neural_net_model.h5\")  \n",
    "joblib.dump(xgb_model, \"xgboost_model.pkl\") \n",
    "joblib.dump(meta_learner, \"meta_learner.pkl\")  \n",
    "\n"
   ]
  },
  {
   "cell_type": "code",
   "execution_count": 16,
   "id": "83e99116",
   "metadata": {},
   "outputs": [
    {
     "data": {
      "text/plain": [
       "['preprocessor.pkl']"
      ]
     },
     "execution_count": 16,
     "metadata": {},
     "output_type": "execute_result"
    }
   ],
   "source": [
    "\n",
    "# Step 1: Rebuild the preprocessing pipeline using training data (df_train)\n",
    "from sklearn.preprocessing import StandardScaler, OneHotEncoder\n",
    "from sklearn.compose import ColumnTransformer\n",
    "df_train = pd.read_csv(\"Synthetic_SBA_Loans.csv\")\n",
    "\n",
    "drop_cols = ['Applicant ID', 'Country', 'Location', 'NAICS', 'Eligibility Score']\n",
    "categorical_cols = ['Business Structure']\n",
    "\n",
    "numerical_cols = df_train.drop(columns=drop_cols + categorical_cols + ['Eligibility'], errors='ignore')                         .select_dtypes(include=['int64', 'float64', 'bool']).columns.tolist()\n",
    "\n",
    "preprocessor = ColumnTransformer(transformers=[\n",
    "    ('num', StandardScaler(), numerical_cols),\n",
    "    ('cat', OneHotEncoder(drop='first', handle_unknown='ignore'), categorical_cols)\n",
    "])\n",
    "\n",
    "X_train = df_train.drop(columns=drop_cols + ['Eligibility'], errors='ignore')\n",
    "X_train_preprocessed = preprocessor.fit_transform(X_train)\n",
    "\n",
    "import joblib\n",
    "joblib.dump(preprocessor, 'preprocessor.pkl')\n"
   ]
  },
  {
   "cell_type": "code",
   "execution_count": 17,
   "id": "a2d73f4e",
   "metadata": {},
   "outputs": [
    {
     "name": "stderr",
     "output_type": "stream",
     "text": [
      "WARNING:absl:Compiled the loaded model, but the compiled metrics have yet to be built. `model.compile_metrics` will be empty until you train or evaluate the model.\n"
     ]
    }
   ],
   "source": [
    "\n",
    "# Step 2: Load trained models and preprocess new test data\n",
    "import tensorflow as tf\n",
    "import pandas as pd\n",
    "import numpy as np\n",
    "import joblib\n",
    "\n",
    "# Load models\n",
    "nn_model = tf.keras.models.load_model(\"neural_net_model.h5\")\n",
    "xgb_model = joblib.load(\"xgboost_model.pkl\")\n",
    "meta_learner = joblib.load(\"meta_learner.pkl\")\n",
    "preprocessor = joblib.load(\"preprocessor.pkl\")\n",
    "\n",
    "# Load and preprocess new data\n",
    "df_new = pd.read_csv(\"Synthetic_SBA_Loans_test.csv\")\n",
    "df_new_cleaned = df_new.drop(columns=drop_cols, errors='ignore')\n",
    "X_new_preprocessed = preprocessor.transform(df_new_cleaned)\n"
   ]
  },
  {
   "cell_type": "code",
   "execution_count": 18,
   "metadata": {},
   "outputs": [
    {
     "data": {
      "text/plain": [
       "['meta_learner.pkl']"
      ]
     },
     "execution_count": 18,
     "metadata": {},
     "output_type": "execute_result"
    }
   ],
   "source": [
    "meta_X_train = np.column_stack((nn_train_probs, xgb_train_probs))\n",
    "meta_learner = LogisticRegression()\n",
    "meta_learner.fit(meta_X_train, y_train)\n",
    "\n",
    "# Then save it again\n",
    "import joblib\n",
    "joblib.dump(meta_learner, \"meta_learner.pkl\")\n"
   ]
  },
  {
   "cell_type": "code",
   "execution_count": 19,
   "id": "61d4a35b",
   "metadata": {},
   "outputs": [
    {
     "name": "stdout",
     "output_type": "stream",
     "text": [
      "\u001b[1m190/190\u001b[0m \u001b[32m━━━━━━━━━━━━━━━━━━━━\u001b[0m\u001b[37m\u001b[0m \u001b[1m0s\u001b[0m 896us/step\n",
      "✅ Predictions complete. Output saved to 'Predicted_SBA_Loans.csv'\n"
     ]
    }
   ],
   "source": [
    "\n",
    "# Step 3: Generate predictions using NN + XGB and use meta-learner for final decision\n",
    "nn_probs = nn_model.predict(X_new_preprocessed).flatten()\n",
    "xgb_probs = xgb_model.predict_proba(X_new_preprocessed)[:, 1]\n",
    "\n",
    "# Stack for meta-learner\n",
    "meta_X = np.column_stack((nn_probs, xgb_probs))\n",
    "final_preds = meta_learner.predict(meta_X)\n",
    "\n",
    "# Append results and save\n",
    "df_new[\"Predicted_Eligibility\"] = final_preds\n",
    "df_new.to_csv(\"Predicted_SBA_Loans.csv\", index=False)\n",
    "print(\"✅ Predictions complete. Output saved to 'Predicted_SBA_Loans.csv'\")\n"
   ]
  }
 ],
 "metadata": {
  "kernelspec": {
   "display_name": "Python 3",
   "language": "python",
   "name": "python3"
  },
  "language_info": {
   "codemirror_mode": {
    "name": "ipython",
    "version": 3
   },
   "file_extension": ".py",
   "mimetype": "text/x-python",
   "name": "python",
   "nbconvert_exporter": "python",
   "pygments_lexer": "ipython3",
   "version": "3.9.6"
  }
 },
 "nbformat": 4,
 "nbformat_minor": 2
}
